{
 "cells": [
  {
   "cell_type": "code",
   "execution_count": 2,
   "id": "ee64baa7",
   "metadata": {},
   "outputs": [],
   "source": [
    "from cryptography import x509\n",
    "from cryptography.x509.oid import NameOID\n",
    "from cryptography.hazmat.primitives import hashes, serialization\n",
    "from cryptography.hazmat.primitives.asymmetric import rsa, padding\n",
    "from datetime import datetime, timedelta"
   ]
  },
  {
   "cell_type": "code",
   "execution_count": 3,
   "id": "cebbf744",
   "metadata": {},
   "outputs": [],
   "source": [
    "# 1. Generate RSA key pair\n",
    "private_key = rsa.generate_private_key(\n",
    "    public_exponent=65537,\n",
    "    key_size=2048\n",
    ")\n",
    "public_key = private_key.public_key()"
   ]
  },
  {
   "cell_type": "code",
   "execution_count": 5,
   "id": "cfc2191e",
   "metadata": {},
   "outputs": [],
   "source": [
    "# 2. Build a self-signed X.509 certificate\n",
    "subject = issuer = x509.Name([\n",
    "    x509.NameAttribute(NameOID.COUNTRY_NAME, u\"IN\"),\n",
    "    x509.NameAttribute(NameOID.STATE_OR_PROVINCE_NAME, u\"Tamil Nadu\"),\n",
    "    x509.NameAttribute(NameOID.LOCALITY_NAME, u\"Chennai\"),\n",
    "    x509.NameAttribute(NameOID.ORGANIZATION_NAME, u\"IIT Madras\"),\n",
    "    x509.NameAttribute(NameOID.COMMON_NAME, u\"ee21b128@smail.iitm.ac.in\"),\n",
    "])\n",
    "\n",
    "certificate = (\n",
    "    x509.CertificateBuilder()\n",
    "    .subject_name(subject)\n",
    "    .issuer_name(issuer)\n",
    "    .public_key(public_key)\n",
    "    .serial_number(x509.random_serial_number())\n",
    "    .not_valid_before(datetime.utcnow())\n",
    "    .not_valid_after(datetime.utcnow() + timedelta(days=365))\n",
    "    .add_extension(\n",
    "        x509.BasicConstraints(ca=True, path_length=None), critical=True\n",
    "    )\n",
    "    .sign(private_key, hashes.SHA256())\n",
    ")"
   ]
  },
  {
   "cell_type": "code",
   "execution_count": 7,
   "id": "8e34d91a",
   "metadata": {},
   "outputs": [],
   "source": [
    "# Serialize private key and certificate to PEM\n",
    "private_pem = private_key.private_bytes(\n",
    "    encoding=serialization.Encoding.PEM,\n",
    "    format=serialization.PrivateFormat.TraditionalOpenSSL,\n",
    "    encryption_algorithm=serialization.NoEncryption()\n",
    ")\n",
    "cert_pem = certificate.public_bytes(serialization.Encoding.PEM)"
   ]
  },
  {
   "cell_type": "code",
   "execution_count": 13,
   "id": "990f8fea",
   "metadata": {},
   "outputs": [
    {
     "name": "stdout",
     "output_type": "stream",
     "text": [
      "Signature: 62167f0ba95fb90c95dd13b3cd7e422c0801239ff24a36eadc84e8db45724eb987125807ae7051ce62a5421293508752ebc486e3d132d353eb1ab2c737e015479bcc04a0a1b1cb9bf13f1108832f13c1928e70a29d94d23164f455b457f5403fb3c90e3cb3e945c379cc3c827ec3dbb01ef9d25f1f63305394bae522aef8205382d3b6b405231bd8ecff35ddac26be6249b7704f62f09c3addc81d27ccd0170446716cc78c0c745bfb322c539b589952b465b23038b893e27ea691a0fd9263172389254c5ec65c153d26a6213f78286a02f1a944e1d4b45a4330a96d901616d978e9a733db53f0027c7a45f7101da8f704ab844eb1c4d560e0f4f1208a815de3\n"
     ]
    }
   ],
   "source": [
    "# 3. Sign a message\n",
    "message = b\"Hello, secure world!\"\n",
    "signature = private_key.sign(\n",
    "    message,\n",
    "    padding.PKCS1v15(),\n",
    "    hashes.SHA256()\n",
    ")\n",
    "print(\"Signature:\", signature.hex())"
   ]
  },
  {
   "cell_type": "code",
   "execution_count": 14,
   "id": "f708f80b",
   "metadata": {},
   "outputs": [
    {
     "name": "stdout",
     "output_type": "stream",
     "text": [
      "Verification successful: signature is valid.\n"
     ]
    }
   ],
   "source": [
    "# 4. Verify signature using the public key from the certificate\n",
    "public_key_from_cert = certificate.public_key()\n",
    "try:\n",
    "    public_key_from_cert.verify(\n",
    "        signature,\n",
    "        message,\n",
    "        padding.PKCS1v15(),\n",
    "        hashes.SHA256()\n",
    "    )\n",
    "    print(\"Verification successful: signature is valid.\")\n",
    "except Exception as e:\n",
    "    print(\"Verification failed:\", e)"
   ]
  }
 ],
 "metadata": {
  "kernelspec": {
   "display_name": ".venv",
   "language": "python",
   "name": "python3"
  },
  "language_info": {
   "codemirror_mode": {
    "name": "ipython",
    "version": 3
   },
   "file_extension": ".py",
   "mimetype": "text/x-python",
   "name": "python",
   "nbconvert_exporter": "python",
   "pygments_lexer": "ipython3",
   "version": "3.8.16"
  }
 },
 "nbformat": 4,
 "nbformat_minor": 5
}
