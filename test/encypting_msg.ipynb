{
 "cells": [
  {
   "cell_type": "code",
   "execution_count": 1,
   "id": "777ef012",
   "metadata": {},
   "outputs": [],
   "source": [
    "from cryptography.hazmat.primitives.asymmetric import ec\n",
    "from cryptography.hazmat.primitives.kdf.hkdf import HKDF\n",
    "from cryptography.hazmat.primitives import hashes, serialization\n",
    "from cryptography.hazmat.primitives.ciphers.aead import AESGCM\n",
    "import os"
   ]
  },
  {
   "cell_type": "code",
   "execution_count": 4,
   "id": "3911b4d7",
   "metadata": {},
   "outputs": [],
   "source": [
    "# 1. Generate ECDH key pairs for Party A and Party B\n",
    "a_private_key = ec.generate_private_key(ec.SECP256R1())\n",
    "b_private_key = ec.generate_private_key(ec.SECP256R1())\n",
    "\n",
    "a_public_key = a_private_key.public_key()\n",
    "b_public_key = b_private_key.public_key()\n",
    "\n",
    "# 2. Derive shared secret\n",
    "shared_secret_a = a_private_key.exchange(ec.ECDH(), b_public_key)\n",
    "shared_secret_b = b_private_key.exchange(ec.ECDH(), a_public_key)\n",
    "\n",
    "assert shared_secret_a == shared_secret_b"
   ]
  },
  {
   "cell_type": "code",
   "execution_count": 5,
   "id": "2f18a502",
   "metadata": {},
   "outputs": [],
   "source": [
    "# 3. Derive root key and subsequent chain keys via HKDF\n",
    "# Root key\n",
    "hkdf_root = HKDF(\n",
    "    algorithm=hashes.SHA256(),\n",
    "    length=32,\n",
    "    salt=None,\n",
    "    info=b'protocol root key',\n",
    ")\n",
    "root_key = hkdf_root.derive(shared_secret_a)\n",
    "# Chain keys (example: derive 5 chain keys)\n",
    "chain_keys = []\n",
    "prev_key = root_key\n",
    "for i in range(5):\n",
    "    hkdf_chain = HKDF(\n",
    "        algorithm=hashes.SHA256(),\n",
    "        length=32,\n",
    "        salt=None,\n",
    "        info=f'chain key {i}'.encode(),\n",
    "    )\n",
    "    ck = hkdf_chain.derive(prev_key)\n",
    "    chain_keys.append(ck)\n",
    "    prev_key = ck"
   ]
  },
  {
   "cell_type": "code",
   "execution_count": 6,
   "id": "5c236193",
   "metadata": {},
   "outputs": [],
   "source": [
    "# 4. Encrypt and decrypt a message using one of the chain keys with AES-GCM\n",
    "message = b\"Secret message for AES encryption\"\n",
    "aes_key = chain_keys[0]  # use the first chain key\n",
    "aesgcm = AESGCM(aes_key)\n",
    "\n",
    "nonce = os.urandom(12)  # 96-bit nonce for AES-GCM\n",
    "ciphertext = aesgcm.encrypt(nonce, message, associated_data=None)\n"
   ]
  },
  {
   "cell_type": "code",
   "execution_count": 19,
   "id": "15ba2ed6",
   "metadata": {},
   "outputs": [
    {
     "data": {
      "text/plain": [
       "b'n\\x06\\x9f\\x8a\\x1b\\xfb\\x83,=\\xc0\\xc8v'"
      ]
     },
     "execution_count": 19,
     "metadata": {},
     "output_type": "execute_result"
    }
   ],
   "source": [
    "os.urandom(12)"
   ]
  },
  {
   "cell_type": "code",
   "execution_count": null,
   "id": "52ad96ed",
   "metadata": {},
   "outputs": [],
   "source": [
    "# 5. Decrypt\n",
    "plaintext = aesgcm.decrypt(nonce, ciphertext, associated_data=None)\n",
    "assert plaintext == message"
   ]
  },
  {
   "cell_type": "code",
   "execution_count": 8,
   "id": "c0b41265",
   "metadata": {},
   "outputs": [
    {
     "name": "stdout",
     "output_type": "stream",
     "text": [
      "Shared secret (hex): 15df9ca19527760a9438103b8e232187c3e9d27f8e011360b35357d0a54290ec\n",
      "Root key (hex): be6d54dca4c38d8a53f7546dd11982bdc3bcee55f1cc87f7f9a3b59988dc1269\n",
      "Chain key 0 (hex): 5180e1d83c37fb10e0ed32c57856603b1f96765c19d6195c90205f6ee3a2fb23\n",
      "Chain key 1 (hex): e15b54951fe98589b15d339bdcdeb1829256610d490ef5460786e88df9edfab6\n",
      "Chain key 2 (hex): 94739ab6275fbf85acf591bb27843249e0026f18bc33de2b4cdb0419528524ed\n",
      "Chain key 3 (hex): 6f123eb726ee2931200295d097b84e8228cf8905964f42b16d76ba1dd8fb1acf\n",
      "Chain key 4 (hex): cfc720bc548876ffcbf08988455ed4f87bbacb8e561d5aaebb4e3bc9b0bd783e\n",
      "Nonce (hex): 92bbac1352b29295ae39173e\n",
      "Ciphertext (hex): a08ea2b00f1430d7c498f5128a015c25cc7be8cd655729588cfec349e939bdd535f4711702bb392072b17426ca886a60c8\n",
      "Decrypted message: Secret message for AES encryption\n"
     ]
    }
   ],
   "source": [
    "# Output\n",
    "print(\"Shared secret (hex):\", shared_secret_a.hex())\n",
    "print(\"Root key (hex):\", root_key.hex())\n",
    "for idx, ck in enumerate(chain_keys):\n",
    "    print(f\"Chain key {idx} (hex):\", ck.hex())\n",
    "print(\"Nonce (hex):\", nonce.hex())\n",
    "print(\"Ciphertext (hex):\", ciphertext.hex())\n",
    "print(\"Decrypted message:\", plaintext.decode())"
   ]
  }
 ],
 "metadata": {
  "kernelspec": {
   "display_name": ".venv",
   "language": "python",
   "name": "python3"
  },
  "language_info": {
   "codemirror_mode": {
    "name": "ipython",
    "version": 3
   },
   "file_extension": ".py",
   "mimetype": "text/x-python",
   "name": "python",
   "nbconvert_exporter": "python",
   "pygments_lexer": "ipython3",
   "version": "3.8.16"
  }
 },
 "nbformat": 4,
 "nbformat_minor": 5
}
