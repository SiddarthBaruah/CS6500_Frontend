{
 "cells": [
  {
   "cell_type": "code",
   "execution_count": 2,
   "id": "2d16e651",
   "metadata": {},
   "outputs": [],
   "source": [
    "from cryptography import x509\n",
    "from cryptography.x509.oid import NameOID\n",
    "from cryptography.hazmat.primitives.asymmetric import ec\n",
    "from cryptography.hazmat.primitives import serialization, hashes\n",
    "from cryptography.hazmat.primitives.kdf.hkdf import HKDF\n",
    "from datetime import datetime, timedelta"
   ]
  },
  {
   "cell_type": "code",
   "execution_count": 10,
   "id": "b7e8b4b4",
   "metadata": {},
   "outputs": [],
   "source": [
    "# 1. Simulate CA root key (self-signed)\n",
    "ca_key = ec.generate_private_key(ec.SECP256R1())\n",
    "ca_name = x509.Name([\n",
    "    x509.NameAttribute(NameOID.COMMON_NAME, u\"My CA\"),\n",
    "    x509.NameAttribute(NameOID.COUNTRY_NAME, u\"IN\"),\n",
    "    x509.NameAttribute(NameOID.STATE_OR_PROVINCE_NAME, u\"Tamil Nadu\"),\n",
    "    x509.NameAttribute(NameOID.LOCALITY_NAME, u\"Chennai\"),\n",
    "    x509.NameAttribute(NameOID.ORGANIZATION_NAME, u\"IIT Madras\"),\n",
    "    x509.NameAttribute(NameOID.COMMON_NAME, u\"ee21b128@smail.iitm.ac.in\"),\n",
    "])\n",
    "\n",
    "ca_cert = (\n",
    "    x509.CertificateBuilder()\n",
    "    .subject_name(ca_name)\n",
    "    .issuer_name(ca_name)\n",
    "    .public_key(ca_key.public_key())\n",
    "    .serial_number(x509.random_serial_number())\n",
    "    .not_valid_before(datetime.utcnow())\n",
    "    .not_valid_after(datetime.utcnow() + timedelta(days=365))\n",
    "    .add_extension(x509.BasicConstraints(ca=True, path_length=None), critical=True)\n",
    "    .sign(ca_key, hashes.SHA256())\n",
    ")\n"
   ]
  },
  {
   "cell_type": "code",
   "execution_count": 4,
   "id": "e7967566",
   "metadata": {},
   "outputs": [],
   "source": [
    "# Function to create a user certificate signed by CA\n",
    "def generate_user_cert(common_name: str):\n",
    "    user_key = ec.generate_private_key(ec.SECP256R1())\n",
    "    user_name = x509.Name([\n",
    "        x509.NameAttribute(NameOID.COMMON_NAME, common_name),\n",
    "    ])\n",
    "\n",
    "    user_csr = (\n",
    "        x509.CertificateSigningRequestBuilder()\n",
    "        .subject_name(user_name)\n",
    "        .sign(user_key, hashes.SHA256())\n",
    "    )\n",
    "\n",
    "    user_cert = (\n",
    "        x509.CertificateBuilder()\n",
    "        .subject_name(user_csr.subject)\n",
    "        .issuer_name(ca_cert.subject)\n",
    "        .public_key(user_key.public_key())\n",
    "        .serial_number(x509.random_serial_number())\n",
    "        .not_valid_before(datetime.utcnow())\n",
    "        .not_valid_after(datetime.utcnow() + timedelta(days=90))\n",
    "        .sign(ca_key, hashes.SHA256())\n",
    "    )\n",
    "\n",
    "    return user_key, user_cert"
   ]
  },
  {
   "cell_type": "code",
   "execution_count": 5,
   "id": "a3294461",
   "metadata": {},
   "outputs": [],
   "source": [
    "# Generate certificates for Alice and Bob\n",
    "alice_key, alice_cert = generate_user_cert(\"Alice\")\n",
    "bob_key,   bob_cert   = generate_user_cert(\"Bob\")\n"
   ]
  },
  {
   "cell_type": "code",
   "execution_count": 6,
   "id": "b02f2de9",
   "metadata": {},
   "outputs": [],
   "source": [
    "# 2. Each party extracts peer's public key from certificate\n",
    "alice_pub = alice_cert.public_key()\n",
    "bob_pub   = bob_cert.public_key()"
   ]
  },
  {
   "cell_type": "code",
   "execution_count": 7,
   "id": "41d94fbb",
   "metadata": {},
   "outputs": [],
   "source": [
    "# 3. Derive ECDH shared secret\n",
    "alice_shared = alice_key.exchange(ec.ECDH(), bob_pub)\n",
    "bob_shared   = bob_key.exchange(ec.ECDH(), alice_pub)\n",
    "assert alice_shared == bob_shared"
   ]
  },
  {
   "cell_type": "code",
   "execution_count": 8,
   "id": "078fcce8",
   "metadata": {},
   "outputs": [],
   "source": [
    "# 4. Derive a symmetric key via HKDF\n",
    "hkdf = HKDF(\n",
    "    algorithm=hashes.SHA256(),\n",
    "    length=32,\n",
    "    salt=None,\n",
    "    info=b\"user handshake\",\n",
    ")\n",
    "symmetric_key = hkdf.derive(alice_shared)"
   ]
  },
  {
   "cell_type": "code",
   "execution_count": 9,
   "id": "1e12800c",
   "metadata": {},
   "outputs": [
    {
     "name": "stdout",
     "output_type": "stream",
     "text": [
      "Alice Certificate:\n",
      " -----BEGIN CERTIFICATE-----\n",
      "MIIBHzCBxqADAgECAhR0GtlY3hu+9yniNeiBoay5OOZ77zAKBggqhkjOPQQDAjAQ\n",
      "MQ4wDAYDVQQDDAVNeSBDQTAeFw0yNTA1MDIwOTA2MzVaFw0yNTA3MzEwOTA2MzVa\n",
      "MBAxDjAMBgNVBAMMBUFsaWNlMFkwEwYHKoZIzj0CAQYIKoZIzj0DAQcDQgAEGkNe\n",
      "1IZN3x5kW3ygJe53ksZCg8mJbMWDh86N1ODOCmE1YbTTMI9X/peWMg8S8TQffGHl\n",
      "BlWUux2P+80iHiuySjAKBggqhkjOPQQDAgNIADBFAiBqztj8sNDbUNTbrlsXb7/P\n",
      "+S45gq53XLoOn2q9+xh7UwIhAOiWlRV7eQvt3+QQfmty2oYMgalb5sPansdeS4uN\n",
      "uykV\n",
      "-----END CERTIFICATE-----\n",
      "\n",
      "Bob Certificate:\n",
      " -----BEGIN CERTIFICATE-----\n",
      "MIIBHTCBxKADAgECAhRP0qUN/ILg3rjq3oGIMTp5a9KXuTAKBggqhkjOPQQDAjAQ\n",
      "MQ4wDAYDVQQDDAVNeSBDQTAeFw0yNTA1MDIwOTA2MzVaFw0yNTA3MzEwOTA2MzVa\n",
      "MA4xDDAKBgNVBAMMA0JvYjBZMBMGByqGSM49AgEGCCqGSM49AwEHA0IABNOKzyM4\n",
      "70jHAwMvPOiJvsIdGY8THVdE7r2hsem2L2x1ulNUocduXugx/3TJ66NrMoHXMWC0\n",
      "lrxiKroiIEBckx4wCgYIKoZIzj0EAwIDSAAwRQIgD98d4aP4euyGS6lqq/LdqGBC\n",
      "l6TVxhQI9Bn74XGWh28CIQCVq5LCFzQZW0UlhtShkyZ+Gd/ZcTP7z/fgqmeyUyRm\n",
      "yw==\n",
      "-----END CERTIFICATE-----\n",
      "\n",
      "Derived symmetric key (hex): 5286e99b3942b510fdbe53f2f0b71df3054a9de737f14fc94e8e3bd747778e7f\n"
     ]
    }
   ],
   "source": [
    "# Serialize certificate to PEM for distribution\n",
    "alice_cert_pem = alice_cert.public_bytes(serialization.Encoding.PEM)\n",
    "bob_cert_pem   = bob_cert.public_bytes(serialization.Encoding.PEM)\n",
    "\n",
    "print(\"Alice Certificate:\\n\", alice_cert_pem.decode())\n",
    "print(\"Bob Certificate:\\n\", bob_cert_pem.decode())\n",
    "print(\"Derived symmetric key (hex):\", symmetric_key.hex())"
   ]
  }
 ],
 "metadata": {
  "kernelspec": {
   "display_name": ".venv",
   "language": "python",
   "name": "python3"
  },
  "language_info": {
   "codemirror_mode": {
    "name": "ipython",
    "version": 3
   },
   "file_extension": ".py",
   "mimetype": "text/x-python",
   "name": "python",
   "nbconvert_exporter": "python",
   "pygments_lexer": "ipython3",
   "version": "3.8.16"
  }
 },
 "nbformat": 4,
 "nbformat_minor": 5
}
